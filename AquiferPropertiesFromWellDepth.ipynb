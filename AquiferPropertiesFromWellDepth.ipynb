{
 "cells": [
  {
   "cell_type": "markdown",
   "id": "c5b09204-a62e-4304-b4ad-5141b4078c6d",
   "metadata": {},
   "source": [
    "The objective of the code is to develop a code that shows some of the relevant characteristics of an aquifer (water altitude raster, vadose zone thickness, isopach map, etc.) by having as inputs a point layer with the water depth from the surface and a digital elevation model. The output layers are intended to generate a quick visualization of the aquifer conditions, however, a more in-depth analysis will have to be performed because the code performs an interpolation which is linked to an error percentage."
   ]
  },
  {
   "cell_type": "code",
   "execution_count": 9,
   "id": "f7be85b4-06b2-4cbb-af53-0471cb5219ce",
   "metadata": {},
   "outputs": [],
   "source": [
    "import arcpy\n",
    "from arcpy import env\n",
    "import os\n",
    "env.overwriteOutput = True"
   ]
  },
  {
   "cell_type": "code",
   "execution_count": 10,
   "id": "6e9028ee-1565-44a8-b506-6f5f8c3fae43",
   "metadata": {},
   "outputs": [
    {
     "name": "stdin",
     "output_type": "stream",
     "text": [
      "Enter the directory path that contain the input features:  C:\\Users\\lvllsrcs\\OneDrive - The University of Memphis\\1st Semester\\Advance GIS\\Project\\Workspace\n",
      "Enter name for the points shape file that contains the depth to water:  MRVA_GW_AgencyMeas_2018.shp\n",
      "Enter the name for the raster layer that contains the DEM:  DEM.tif\n"
     ]
    }
   ],
   "source": [
    "# Set working directory\n",
    "directoryPath = input(\"Enter the directory path that contain the input features: \")\n",
    "env.workspace = directoryPath\n",
    "wellData = input(\"Enter name for the points shape file that contains the depth to water: \")\n",
    "DEM = input(\"Enter the name for the raster layer that contains the DEM: \")"
   ]
  },
  {
   "cell_type": "code",
   "execution_count": 11,
   "id": "2571ed63-9fa0-4f02-9e96-96ec1ded5af7",
   "metadata": {},
   "outputs": [
    {
     "name": "stdout",
     "output_type": "stream",
     "text": [
      "The field names in the layer MRVA_GW_AgencyMeas_2018.shp are:\n",
      "FID, Shape, SITE_BADGE, LAT_DD, LONG_DD, LL_DATUM, LL_ACY_CD, LL_METH_CD, ALT_VA, ALT_DATUM, ALT_METHCD, ALT_ACY_VA, ALT_88, URL, NAT_AQFR, STATION_NM, LANDNET, FIPS_ST, MAP_REGION, WELL_DEPTH, LEVCNT2018, DRYCNT2018, FLOCNT2018, WLA88_2018, D2W_2018, DATE_2018, USE_2018, USECMT2018, X_AlbWGS84, Y_ALBWGS84, Meas_type, MeasCat, FIPS_CNTY, CNTY_NAME, "
     ]
    }
   ],
   "source": [
    "fields = arcpy.ListFields(wellData)\n",
    "print(f\"The field names in the layer {wellData} are:\")\n",
    "\n",
    "for field in fields:\n",
    "    print(field.name, end = \", \")"
   ]
  },
  {
   "cell_type": "code",
   "execution_count": 12,
   "id": "98ec4419-035d-4d60-8342-3d663ef886c1",
   "metadata": {},
   "outputs": [
    {
     "name": "stdin",
     "output_type": "stream",
     "text": [
      "Enter the field that contains the well depth to water:  WLA88_2018\n"
     ]
    }
   ],
   "source": [
    "wellDepthField = input(\"Enter the field that contains the well depth to water: \")"
   ]
  },
  {
   "cell_type": "code",
   "execution_count": 13,
   "id": "6c950038-eb00-42af-9d69-4e21b4d5ee7d",
   "metadata": {},
   "outputs": [
    {
     "data": {
      "text/html": [
       "<div class='gpresult'><h2 class='msg-title'>Messages</h2><div id='messages'>Start Time: Tuesday, November 26, 2024 11:06:56 PM<br>Succeeded at Tuesday, November 26, 2024 11:06:56 PM (Elapsed Time: 0.07 seconds)<br></div><div id = 'default' /></div></div>"
      ],
      "text/plain": [
       "<Result 'C:\\\\Users\\\\lvllsrcs\\\\OneDrive - The University of Memphis\\\\1st Semester\\\\Advance GIS\\\\Project\\\\Workspace\\\\AquiferProperties.gdb'>"
      ]
     },
     "execution_count": 13,
     "metadata": {},
     "output_type": "execute_result"
    }
   ],
   "source": [
    "arcpy.management.CreateFileGDB(directoryPath, \"AquiferProperties.gdb\")"
   ]
  },
  {
   "cell_type": "code",
   "execution_count": 14,
   "id": "fce90003-d886-423e-a456-9267521733a5",
   "metadata": {},
   "outputs": [],
   "source": [
    "arcpy.sa.ExtractValuesToPoints(wellData, DEM, \"AquiferProperties.gdb\\\\welldData_v2\")\n",
    "wellData2 = \"AquiferProperties.gdb\\\\welldData_v2\""
   ]
  },
  {
   "cell_type": "code",
   "execution_count": 15,
   "id": "657fcff4-251c-4df5-b4c5-4fe9b34f1a26",
   "metadata": {},
   "outputs": [
    {
     "data": {
      "text/html": [
       "<div class='gpresult'><h2 class='msg-title'>Messages</h2><div id='messages'>Start Time: Tuesday, November 26, 2024 11:07:12 PM<br>Adding WaterAltitude to welldData_v2...<br>Succeeded at Tuesday, November 26, 2024 11:07:12 PM (Elapsed Time: 0.20 seconds)<br></div><div id = 'default' /></div></div>"
      ],
      "text/plain": [
       "<Result 'C:\\\\Users\\\\lvllsrcs\\\\OneDrive - The University of Memphis\\\\1st Semester\\\\Advance GIS\\\\Project\\\\Workspace\\\\AquiferProperties.gdb\\\\welldData_v2'>"
      ]
     },
     "execution_count": 15,
     "metadata": {},
     "output_type": "execute_result"
    }
   ],
   "source": [
    "arcpy.management.AddFields(wellData2,[[\"WaterAltitude\",\"DOUBLE\",\"Water altitude\"]])"
   ]
  },
  {
   "cell_type": "code",
   "execution_count": 16,
   "id": "ffa7c892-c526-4fe2-a4f3-5e82ac911eaf",
   "metadata": {},
   "outputs": [
    {
     "name": "stdout",
     "output_type": "stream",
     "text": [
      "The field names in the layer AquiferProperties.gdb\\welldData_v2 are:\n",
      "OBJECTID, Shape, SITE_BADGE, LAT_DD, LONG_DD, LL_DATUM, LL_ACY_CD, LL_METH_CD, ALT_VA, ALT_DATUM, ALT_METHCD, ALT_ACY_VA, ALT_88, URL, NAT_AQFR, STATION_NM, LANDNET, FIPS_ST, MAP_REGION, WELL_DEPTH, LEVCNT2018, DRYCNT2018, FLOCNT2018, WLA88_2018, D2W_2018, DATE_2018, USE_2018, USECMT2018, X_AlbWGS84, Y_ALBWGS84, Meas_type, MeasCat, FIPS_CNTY, CNTY_NAME, RASTERVALU, WaterAltitude, "
     ]
    }
   ],
   "source": [
    "fields = arcpy.ListFields(wellData2)\n",
    "print(f\"The field names in the layer {wellData2} are:\")\n",
    "for field in fields:\n",
    "    print(field.name, end = \", \")"
   ]
  },
  {
   "cell_type": "code",
   "execution_count": 17,
   "id": "6829bf9a-81d7-4e3d-ab39-604c56dc2cbe",
   "metadata": {},
   "outputs": [
    {
     "data": {
      "text/html": [
       "<div class='gpresult'><h2 class='msg-title'>Messages</h2><div id='messages'>Start Time: Tuesday, November 26, 2024 11:07:19 PM<br>Succeeded at Tuesday, November 26, 2024 11:07:19 PM (Elapsed Time: 0.26 seconds)<br></div><div id = 'default' /></div></div>"
      ],
      "text/plain": [
       "<Result 'C:\\\\Users\\\\lvllsrcs\\\\OneDrive - The University of Memphis\\\\1st Semester\\\\Advance GIS\\\\Project\\\\Workspace\\\\AquiferProperties.gdb\\\\welldData_v2'>"
      ]
     },
     "execution_count": 17,
     "metadata": {},
     "output_type": "execute_result"
    }
   ],
   "source": [
    "arcpy.CalculateField_management(in_table=wellData2, field= \"WaterAltitude\",expression=f\"!RASTERVALU! - !{wellDepthField}!\",expression_type=\"PYTHON3\")"
   ]
  },
  {
   "cell_type": "code",
   "execution_count": 18,
   "id": "ac43b081-f14b-4f1f-b1d3-dc31b84801ac",
   "metadata": {},
   "outputs": [],
   "source": [
    "env.workspace = directoryPath + \"\\\\AquiferProperties.gdb\""
   ]
  },
  {
   "cell_type": "code",
   "execution_count": 20,
   "id": "f3bac083-74cd-447b-aeda-d248b41029d6",
   "metadata": {},
   "outputs": [
    {
     "name": "stdin",
     "output_type": "stream",
     "text": [
      "Enter the cell size for the Kriging interpolation:  500\n"
     ]
    }
   ],
   "source": [
    "cellSize = input(\"Enter the cell size for the Kriging interpolation: \")\n",
    "outVarRaster = \"VarRaster\"\n",
    "lagSize = 2000\n",
    "majorRange = 2.6\n",
    "partialSill = 542\n",
    "nugget = 0\n",
    "\n",
    "# Set complex variables\n",
    "kModelOrdinary = arcpy.sa.KrigingModelOrdinary(\"CIRCULAR\", lagSize,majorRange, partialSill, nugget)\n",
    "kRadius = arcpy.sa.RadiusFixed(20000, 1)\n",
    "\n",
    "outKriging = arcpy.sa.Kriging(\"welldData_v2\",\"WaterAltitude\",kModelOrdinary,cellSize,kRadius,outVarRaster)\n",
    "outKriging.save(\"Kriging\")"
   ]
  },
  {
   "cell_type": "code",
   "execution_count": 21,
   "id": "423803ae-6a2b-47c2-89cf-ccd02d3a3a31",
   "metadata": {},
   "outputs": [],
   "source": [
    "env.workspace = directoryPath"
   ]
  },
  {
   "cell_type": "markdown",
   "id": "cd959728-730c-46c8-93a7-482c46cacc53",
   "metadata": {},
   "source": [
    "The next steps are to calculate the aquifer properties from the generated interpolation and the digital elevation model and standardize the process so that it can be used through a python function.\n",
    "This code was created using the Arcpy libraries because it was necessary to use a large number of python libraries to be able to generate interpolations through open source."
   ]
  }
 ],
 "metadata": {
  "kernelspec": {
   "display_name": "Python 3 (ipykernel)",
   "language": "python",
   "name": "python3"
  },
  "language_info": {
   "codemirror_mode": {
    "name": "ipython",
    "version": 3
   },
   "file_extension": ".py",
   "mimetype": "text/x-python",
   "name": "python",
   "nbconvert_exporter": "python",
   "pygments_lexer": "ipython3",
   "version": "3.11.10"
  }
 },
 "nbformat": 4,
 "nbformat_minor": 5
}

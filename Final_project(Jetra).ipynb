{
 "cells": [
  {
   "cell_type": "code",
   "execution_count": null,
   "id": "12ff6c34",
   "metadata": {},
   "outputs": [],
   "source": [
    "#final project \" Geoprocessing and Buffers to Evaluate the Effect of Road Proximity on Vegetation\""
   ]
  },
  {
   "cell_type": "code",
   "execution_count": 1,
   "id": "632f8ac2",
   "metadata": {},
   "outputs": [
    {
     "name": "stdout",
     "output_type": "stream",
     "text": [
      "Channels:\n",
      " - conda-forge\n",
      " - defaults\n",
      " - esri\n",
      "Platform: win-64\n",
      "Collecting package metadata (repodata.json): ...working... done\n",
      "Solving environment: ...working... done\n",
      "\n",
      "## Package Plan ##\n",
      "\n",
      "  environment location: C:\\Users\\bjetra\\AppData\\Local\\ESRI\\conda\\envs\\arcgispro-py3-clone\n",
      "\n",
      "  added / updated specs:\n",
      "    - geopandas\n",
      "\n",
      "\n",
      "The following packages will be downloaded:\n",
      "\n",
      "    package                    |            build\n",
      "    ---------------------------|-----------------\n",
      "    branca-0.7.2               |     pyhd8ed1ab_0          28 KB  conda-forge\n",
      "    certifi-2024.8.30          |     pyhd8ed1ab_0         160 KB  conda-forge\n",
      "    click-plugins-1.1.1        |             py_0           9 KB  conda-forge\n",
      "    cligj-0.7.2                |     pyhd8ed1ab_1          10 KB  conda-forge\n",
      "    fiona-1.9.5                |          py311_4        16.7 MB  esri\n",
      "    folium-0.18.0              |     pyhd8ed1ab_0          77 KB  conda-forge\n",
      "    geopandas-0.14.4           |     pyhd8ed1ab_0           8 KB  conda-forge\n",
      "    geopandas-base-0.14.4      |     pyha770c72_0         997 KB  conda-forge\n",
      "    geos-3.8.0                 |       he025d50_1         1.0 MB  conda-forge\n",
      "    joblib-1.4.2               |     pyhd8ed1ab_0         215 KB  conda-forge\n",
      "    libcurl-8.6.0              |                0         535 KB  esri\n",
      "    libnghttp2-1.62.1          |                0         111 KB  esri\n",
      "    libspatialindex-1.9.3      |       h39d44d4_4         437 KB  conda-forge\n",
      "    mapclassify-2.8.1          |     pyhd8ed1ab_0          57 KB  conda-forge\n",
      "    munch-4.0.0                |     pyhd8ed1ab_0          15 KB  conda-forge\n",
      "    proj-9.3.1                 |       ha107b6e_0         2.8 MB\n",
      "    pyproj-3.6.1               |  py311ha997c60_0         807 KB\n",
      "    python_abi-3.11            |          2_cp311           5 KB  conda-forge\n",
      "    rtree-1.2.0                |  py311hcacb13a_0          62 KB  conda-forge\n",
      "    scikit-learn-1.4.2         |  py311hf62ec03_1         9.0 MB\n",
      "    shapely-2.0.1              |  py311h672afca_0         468 KB\n",
      "    threadpoolctl-3.5.0        |     pyhc1e730c_0          23 KB  conda-forge\n",
      "    xyzservices-2024.9.0       |     pyhd8ed1ab_0          46 KB  conda-forge\n",
      "    ------------------------------------------------------------\n",
      "                                           Total:        33.5 MB\n",
      "\n",
      "The following NEW packages will be INSTALLED:\n",
      "\n",
      "  branca             conda-forge/noarch::branca-0.7.2-pyhd8ed1ab_0 \n",
      "  click-plugins      conda-forge/noarch::click-plugins-1.1.1-py_0 \n",
      "  cligj              conda-forge/noarch::cligj-0.7.2-pyhd8ed1ab_1 \n",
      "  fiona              esri/win-64::fiona-1.9.5-py311_4 \n",
      "  folium             conda-forge/noarch::folium-0.18.0-pyhd8ed1ab_0 \n",
      "  geopandas          conda-forge/noarch::geopandas-0.14.4-pyhd8ed1ab_0 \n",
      "  geopandas-base     conda-forge/noarch::geopandas-base-0.14.4-pyha770c72_0 \n",
      "  geos               conda-forge/win-64::geos-3.8.0-he025d50_1 \n",
      "  joblib             conda-forge/noarch::joblib-1.4.2-pyhd8ed1ab_0 \n",
      "  libcurl            esri/win-64::libcurl-8.6.0-0 \n",
      "  libnghttp2         esri/win-64::libnghttp2-1.62.1-0 \n",
      "  libspatialindex    conda-forge/win-64::libspatialindex-1.9.3-h39d44d4_4 \n",
      "  mapclassify        conda-forge/noarch::mapclassify-2.8.1-pyhd8ed1ab_0 \n",
      "  munch              conda-forge/noarch::munch-4.0.0-pyhd8ed1ab_0 \n",
      "  proj               pkgs/main/win-64::proj-9.3.1-ha107b6e_0 \n",
      "  pyproj             pkgs/main/win-64::pyproj-3.6.1-py311ha997c60_0 \n",
      "  python_abi         conda-forge/win-64::python_abi-3.11-2_cp311 \n",
      "  rtree              conda-forge/win-64::rtree-1.2.0-py311hcacb13a_0 \n",
      "  scikit-learn       pkgs/main/win-64::scikit-learn-1.4.2-py311hf62ec03_1 \n",
      "  shapely            pkgs/main/win-64::shapely-2.0.1-py311h672afca_0 \n",
      "  threadpoolctl      conda-forge/noarch::threadpoolctl-3.5.0-pyhc1e730c_0 \n",
      "  xyzservices        conda-forge/noarch::xyzservices-2024.9.0-pyhd8ed1ab_0 \n",
      "\n",
      "The following packages will be UPDATED:\n",
      "\n",
      "  certifi            pkgs/main/win-64::certifi-2024.2.2-py~ --> conda-forge/noarch::certifi-2024.8.30-pyhd8ed1ab_0 \n",
      "\n",
      "\n",
      "\n",
      "Downloading and Extracting Packages: ...working... done\n",
      "Preparing transaction: ...working... done\n",
      "Verifying transaction: ...working... done\n",
      "Executing transaction: ...working... done\n"
     ]
    }
   ],
   "source": [
    "!conda install -c conda-forge geopandas -y"
   ]
  },
  {
   "cell_type": "code",
   "execution_count": null,
   "id": "f387835c",
   "metadata": {},
   "outputs": [],
   "source": [
    "\n",
    "\n",
    "import geopandas as gpd\n",
    "import matplotlib.pyplot as plt\n",
    "import numpy as np\n",
    "import scipy.stats as stats\n",
    "\n",
    "#load roads and vegetation data\n",
    "roads = gpd.read_file(r\"C:\\Users\\bjetra\\Downloads\\data1\\data1\\Lesson1\\us_roads.shp\")\n",
    "vegetation = gpd.read_file(r\"Enter your vegetation shape file path\")\n",
    "\n",
    "#Reproject both datasets to the same CRS (e.g., EPSG:4326)\n",
    "\n",
    "roads = roads.to_crs(epsg=4326)\n",
    "vegetation = vegetation.to_crs(epsg=4326)\n"
   ]
  },
  {
   "cell_type": "code",
   "execution_count": null,
   "id": "deb300d6",
   "metadata": {},
   "outputs": [],
   "source": [
    "#Buffer Zones Creation and Shapefile:\n",
    "roads_buffer_100 = roads.buffer(100)\n",
    "roads_buffer_500 = roads.buffer(500)\n",
    "roads_buffer_1000 = roads.buffer(1000)\n",
    "\n",
    "roads_buffer_100.to_file('roads_buffer_100m.shp')\n",
    "roads_buffer_500.to_file('roads_buffer_500m.shp')\n",
    "roads_buffer_1000.to_file('roads_buffer_1000m.shp')\n"
   ]
  },
  {
   "cell_type": "code",
   "execution_count": null,
   "id": "d627e56d-57b1-473c-8b85-4b1f3977f6a5",
   "metadata": {},
   "outputs": [],
   "source": [
    "#Intersect Vegetation Data with Buffer Zones\n",
    "intersection_100m = gpd.overlay(vegetation, roads_buffer_100, how='intersection')\n",
    "intersection_500m = gpd.overlay(vegetation, roads_buffer_500, how='intersection')\n",
    "intersection_1000m = gpd.overlay(vegetation, roads_buffer_1000, how='intersection')"
   ]
  },
  {
   "cell_type": "code",
   "execution_count": null,
   "id": "ebf4bf2b-5a2e-462f-94e9-8efa7adf8220",
   "metadata": {},
   "outputs": [],
   "source": [
    "# Extract NDVI values from the intersection data\n",
    "ndvi_values_100m = intersection_100m['NDVI']  \n",
    "ndvi_values_500m = intersection_500m['NDVI'] \n",
    "ndvi_values_1000m = intersection_1000m['NDVI']"
   ]
  },
  {
   "cell_type": "code",
   "execution_count": null,
   "id": "5696cab2",
   "metadata": {},
   "outputs": [],
   "source": [
    "# Statistical analysis can be used to determine whether vegetation health is considerably impacted by road proximity\n",
    "\n",
    "f_value, p_value = stats.f_oneway(ndvi_values_100m, ndvi_values_500m, ndvi_values_1000m)\n",
    "\n",
    "# Output the results of the ANOVA test\n",
    "print(f\"F-Value: {f_value}\")\n",
    "print(f\"P-Value: {p_value}\")"
   ]
  },
  {
   "cell_type": "code",
   "execution_count": null,
   "id": "40179d80-dfcd-405e-895b-e3d3c9889cc6",
   "metadata": {},
   "outputs": [],
   "source": [
    "# Calculate the mean NDVI for each buffer zone\n",
    "mean_ndvi_100 = np.mean(ndvi_values_100m)\n",
    "mean_ndvi_500 = np.mean(ndvi_values_500m)\n",
    "mean_ndvi_1000 = np.mean(ndvi_values_1000m)"
   ]
  },
  {
   "cell_type": "code",
   "execution_count": null,
   "id": "1b750bd8",
   "metadata": {},
   "outputs": [],
   "source": [
    "#Visualization(To show how close roads are to vegetation, overlay buffer zones on a base map. we can Show how the vegetation health (such as the NDVI) varies within each buffer zone using color-coded maps and also make line plots or bar charts to show how vegetation health and road proximity relate to one another.)\n",
    "\n",
    "buffer_distances = [100, 500, 1000]\n",
    "ndvi_means = [mean_ndvi_100, mean_ndvi_500, mean_ndvi_1000]\n",
    "\n",
    "plt.plot(buffer_distances, ndvi_means, marker='o')\n",
    "plt.xlabel('Distance from Road (m)')\n",
    "plt.ylabel('Mean NDVI')\n",
    "plt.title('Vegetation Health vs. Distance from Road')\n",
    "plt.show()"
   ]
  }
 ],
 "metadata": {
  "kernelspec": {
   "display_name": "Python 3 (ipykernel)",
   "language": "python",
   "name": "python3"
  },
  "language_info": {
   "codemirror_mode": {
    "name": "ipython",
    "version": 3
   },
   "file_extension": ".py",
   "mimetype": "text/x-python",
   "name": "python",
   "nbconvert_exporter": "python",
   "pygments_lexer": "ipython3",
   "version": "3.12.4"
  }
 },
 "nbformat": 4,
 "nbformat_minor": 5
}

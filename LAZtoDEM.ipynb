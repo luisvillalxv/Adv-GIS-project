{
 "cells": [
  {
   "cell_type": "code",
   "execution_count": 33,
   "id": "a5293b4a",
   "metadata": {},
   "outputs": [
    {
     "data": {
      "text/plain": [
       "'\\n# Step 5: Create Slope Model\\narcpy.CheckOutExtension(\"Spatial\")  # Check out Spatial Analyst extension\\nslope = Slope(output_raster, output_measurement=\"DEGREE\")  # Calculate slope\\nslope.save(slope_model)  # Save the slope model\\narcpy.CheckInExtension(\"Spatial\")  # Check in Spatial Analyst extension\\n\\nprint(\"Process completed successfully!\")\\n'"
      ]
     },
     "execution_count": 33,
     "metadata": {},
     "output_type": "execute_result"
    }
   ],
   "source": [
    "import arcpy\n",
    "from arcpy.sa import Slope\n",
    "\n",
    "# Set environment settings\n",
    "arcpy.env.workspace = r\"C:\\LiDAR_2\"\n",
    "arcpy.env.overwriteOutput = True\n",
    "\n",
    "\"\"\"\"\n",
    "This code is intended to help with my research. I get from drone flights .laz LiDAR point clouds and the idea is to come\n",
    "up with a DEM to perform ground analysis. The idea is to convert from .laz to .las to work it in ArcGIS Pro, then, create\n",
    "a LAS Dataset to perform point cloud analysis. Once the LAS Dataset is created, classify the ground to obtain ground vs\n",
    "non-ground points to extract just the terrain and, with that, come up with a DEM.\n",
    "From that point I am not entirely sure which path to take. I think that I will create a slope map to obtain the more critical\n",
    "areas or to try to extract the river channel from the DEM, I will think what will be most useful for my research\n",
    "\"\"\"\n",
    "\n",
    "# Input and output paths\n",
    "input_laz = r\"C:\\LiDAR_2\\2024\\Lone_Oaks_2024-05-01_Raw.copc.laz\" #takes the point cloud as an input as .laz\n",
    "converted_las = r\"C:\\LiDAR_2\\project_output\\\\\" #to store the .las from .laz\n",
    "las_dataset = r\"C:\\LiDAR_2\\lasdataset\\dataset.lasd\" #to store .lasd dataset\n",
    "output_raster = r\"C:\\LiDAR_2\\raster\\dem.tif\" #to store DEM raster\n",
    "slope_model = r\"C:\\LiDAR_2\\raster\\slope.tif\" #to store slope model\n",
    "\n",
    "# NAD 83 State Plane Tennessee FIPS 4100 (Feet)\n",
    "spatial_reference = arcpy.SpatialReference(2274)  # EPSG Code for NAD 1983 Tennessee State Plane \n",
    "\n",
    "#convert LAZ to LAS\n",
    "arcpy.conversion.ConvertLas(\n",
    "    input_laz,\n",
    "    converted_las,\n",
    "    \"1.4\"# LAS file version\n",
    "    \"NO_COMPRESSION\"\n",
    ")\n",
    "\n",
    "#create LAS Dataset\n",
    "arcpy.management.CreateLasDataset(\n",
    "    [r\"C:\\LiDAR_2\\project_output\\Lone_Oaks_2024-05-01_Raw.copc.las\"],  #takes the las file\n",
    "    las_dataset,\n",
    "    \"RECURSION\", #to loop through all files in the folder\n",
    "    None, #not sure why, but after many attempts this worked\n",
    "    spatial_reference \n",
    ")\n",
    "\n",
    "\n",
    "#classify Ground\n",
    "arcpy.ddd.ClassifyLasGround(\n",
    "    in_las_dataset = las_dataset,\n",
    "    method = \"CONSERVATIVE\", #method to classify ground to non-ground points\n",
    "    dem_resolution = 5, #resolution for sampling\n",
    ")\n",
    "\n",
    "\n",
    "#export LAS Dataset to Raster\n",
    "arcpy.conversion.LasDatasetToRaster(\n",
    "    in_las_dataset=las_dataset,\n",
    "    out_raster = output_raster,\n",
    "    value_field=\"ELEVATION\",  # Field to base raster values on\n",
    "    interpolation_type=\"BINNING MAXIMUM NATURAL_NEIGHBOR\", #method to interpolate the point cloud to raster\n",
    "    data_type=\"FLOAT\", #type for the cell\n",
    "    sampling_type=\"CELLSIZE\",\n",
    "    sampling_value=3  #cell size\n",
    ")\n",
    "\n",
    "\n",
    "print(\"Process completed successfully\")\n",
    "\"\"\"\n",
    "Until this point I am able to create the DEM, but despite the point cloud is classified, it is not exporting the ground points.\n",
    "It is not a matter of wrong classification but rather a matter of a wrong selection. I need to see how to select those features and export\n",
    "just the ground. Once the DEM is created I will probably concenctrate on riverbank analysis and I will try to see if it is easier to extract\n",
    "the river and do a slope analysis on the river bank or hand sketch the river course to then analyise river bank slope.\n",
    "\"\"\"\"\n"
   ]
  },
  {
   "cell_type": "code",
   "execution_count": null,
   "id": "2aee5f48",
   "metadata": {},
   "outputs": [],
   "source": []
  },
  {
   "cell_type": "code",
   "execution_count": null,
   "id": "153e5dd2",
   "metadata": {},
   "outputs": [],
   "source": []
  }
 ],
 "metadata": {
  "kernelspec": {
   "display_name": "Python 3 (ipykernel)",
   "language": "python",
   "name": "python3"
  },
  "language_info": {
   "codemirror_mode": {
    "name": "ipython",
    "version": 3
   },
   "file_extension": ".py",
   "mimetype": "text/x-python",
   "name": "python",
   "nbconvert_exporter": "python",
   "pygments_lexer": "ipython3",
   "version": "3.11.8"
  }
 },
 "nbformat": 4,
 "nbformat_minor": 5
}

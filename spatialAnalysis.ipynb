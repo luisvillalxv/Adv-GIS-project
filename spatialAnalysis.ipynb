{
 "cells": [
  {
   "cell_type": "code",
   "execution_count": 16,
   "id": "528070ba-1455-4b02-b2c2-ec3b85d21ec9",
   "metadata": {},
   "outputs": [],
   "source": [
    "import os\n",
    "import numpy as np\n",
    "import rasterio\n",
    "from rasterio.features import rasterize\n",
    "from rasterio.plot import reshape_as_raster\n",
    "from osgeo import gdal, ogr\n",
    "import geopandas as gpd"
   ]
  },
  {
   "cell_type": "code",
   "execution_count": 17,
   "id": "5f239a6e-825b-4cf9-b2cd-fe126a66b14a",
   "metadata": {},
   "outputs": [],
   "source": [
    "def compute_aspect_slope(dem, transform, slope_units='degrees'):\n",
    "    \"\"\"\n",
    "    Compute aspect and slope from DEM using numpy.\n",
    "    \"\"\"\n",
    "    x, y = np.gradient(dem, transform[0], transform[4])  # Gradient in x (EW) and y (NS) directions\n",
    "    slope = np.arctan(np.sqrt(x**2 + y**2))\n",
    "    aspect = np.arctan2(-y, x)  # Aspect in radians (arctan2 handles 360° wrapping)\n",
    "    \n",
    "    # Convert slope to degrees or percent rise\n",
    "    if slope_units == 'degrees':\n",
    "        slope = np.degrees(slope)\n",
    "    elif slope_units == 'percent':\n",
    "        slope = np.tan(slope) * 100\n",
    "    return aspect, slope\n",
    "\n",
    "def compute_hillshade(dem, transform, azimuth=315, altitude=45):\n",
    "    \"\"\"\n",
    "    Compute hillshade using numpy.\n",
    "    \"\"\"\n",
    "    x, y = np.gradient(dem, transform[0], transform[4])\n",
    "    slope = np.arctan(np.sqrt(x**2 + y**2))\n",
    "    aspect = np.arctan2(-y, x)\n",
    "    azimuth_rad = np.radians(azimuth)\n",
    "    altitude_rad = np.radians(altitude)\n",
    "\n",
    "    hillshade = (\n",
    "        np.sin(altitude_rad) * np.cos(slope)\n",
    "        + np.cos(altitude_rad) * np.sin(slope) * np.cos(azimuth_rad - aspect)\n",
    "    )\n",
    "    return hillshade * 255\n",
    "\n",
    "def compute_curvature(dem, transform):\n",
    "    \"\"\"\n",
    "    Compute curvature using numpy.\n",
    "    \"\"\"\n",
    "    x, y = np.gradient(dem, transform[0], transform[4])\n",
    "    xx, xy = np.gradient(x, transform[0], transform[4])\n",
    "    yx, yy = np.gradient(y, transform[0], transform[4])\n",
    "    curvature = xx + yy\n",
    "    return curvature\n",
    "\n",
    "def save_raster(output_path, data, template_raster):\n",
    "    \"\"\"\n",
    "    Save numpy array as a GeoTIFF file.\n",
    "    \"\"\"\n",
    "    with rasterio.open(\n",
    "        output_path,\n",
    "        \"w\",\n",
    "        driver=\"GTiff\",\n",
    "        height=data.shape[0],\n",
    "        width=data.shape[1],\n",
    "        count=1,\n",
    "        dtype=data.dtype,\n",
    "        crs=template_raster.crs,\n",
    "        transform=template_raster.transform,\n",
    "    ) as dst:\n",
    "        dst.write(data, 1)\n",
    "\n",
    "def generate_rasters(input_dem, output_folder, slope_units='degrees'):\n",
    "    \"\"\"\n",
    "    Generate aspect, slope, hillshade, and curvature rasters from an input DEM.\n",
    "    \"\"\"\n",
    "    if not os.path.exists(output_folder):\n",
    "        os.makedirs(output_folder)\n",
    "\n",
    "    with rasterio.open(input_dem) as src:\n",
    "        dem = src.read(1).astype(float)\n",
    "        transform = src.transform\n",
    "\n",
    "        # Aspect and Slope\n",
    "        aspect, slope = compute_aspect_slope(dem, transform, slope_units=slope_units)\n",
    "        save_raster(os.path.join(output_folder, \"aspect.tif\"), aspect, src)\n",
    "        save_raster(os.path.join(output_folder, \"slope.tif\"), slope, src)\n",
    "\n",
    "        # Hillshade\n",
    "        hillshade = compute_hillshade(dem, transform)\n",
    "        save_raster(os.path.join(output_folder, \"hillshade.tif\"), hillshade.astype(np.uint8), src)\n",
    "\n",
    "        # Curvature\n",
    "        curvature = compute_curvature(dem, transform)\n",
    "        save_raster(os.path.join(output_folder, \"curvature.tif\"), curvature, src)\n",
    "\n",
    "    print(f\"Rasters saved to {output_folder}\")\n",
    "\n",
    "def generate_dem_from_contours(contour_file, output_dem, cell_size, elev_field):\n",
    "    \"\"\"\n",
    "    Generate a DEM from contour lines using GDAL with user-defined elevation field.\n",
    "    \"\"\"\n",
    "    # Open contour file\n",
    "    contour_ds = ogr.Open(contour_file)\n",
    "    if not contour_ds:\n",
    "        raise FileNotFoundError(f\"Contour file not found: {contour_file}\")\n",
    "    \n",
    "    contour_layer = contour_ds.GetLayer()\n",
    "    extent = contour_layer.GetExtent()  # xmin, xmax, ymin, ymax\n",
    "    \n",
    "    # Create raster\n",
    "    x_res = int((extent[1] - extent[0]) / cell_size)\n",
    "    y_res = int((extent[3] - extent[2]) / cell_size)\n",
    "    \n",
    "    target_ds = gdal.GetDriverByName(\"GTiff\").Create(\n",
    "        output_dem, x_res, y_res, 1, gdal.GDT_Float32\n",
    "    )\n",
    "    target_ds.SetGeoTransform((extent[0], cell_size, 0, extent[3], 0, -cell_size))\n",
    "    target_ds.SetProjection(contour_layer.GetSpatialRef().ExportToWkt())\n",
    "    \n",
    "    # Rasterize using the elevation field\n",
    "    gdal.RasterizeLayer(target_ds, [1], contour_layer, options=[f\"ATTRIBUTE={elev_field}\"])\n",
    "    target_ds = None\n",
    "    print(f\"DEM generated and saved to {output_dem}\")\n",
    "    return output_dem"
   ]
  },
  {
   "cell_type": "code",
   "execution_count": 24,
   "id": "e77aa9d6-b577-44b1-adff-aece92ce0b0f",
   "metadata": {},
   "outputs": [
    {
     "name": "stdin",
     "output_type": "stream",
     "text": [
      "What is your input, 'contour lines' or 'DEM'?  contour lines\n"
     ]
    }
   ],
   "source": [
    "# Initial question to define if a DEM will be generated or if it already exists\n",
    "\n",
    "input_type = input(\"What is your input, 'contour lines' or 'DEM'? \").strip().lower()"
   ]
  },
  {
   "cell_type": "code",
   "execution_count": 26,
   "id": "72a09a6b-8346-428c-b327-b0e2da7770e4",
   "metadata": {},
   "outputs": [
    {
     "name": "stdin",
     "output_type": "stream",
     "text": [
      "Enter the full path to the contour lines file (e.g., 'C:/data/contours.shp'):  C:\\Users\\jpjmn\\OneDrive\\Documents\\GIS\\curvas_BLP\\curvas_BLP.shp\n",
      "Enter the full path to the output DEM file (e.g., 'C:/data/output_dem.tif'):  C:\\Users\\jpjmn\\OneDrive\\Documents\\GIS\\curvas_BLP\\output_dem.tif\n",
      "Enter the desired cell size for the DEM (e.g., 10.0):  10\n"
     ]
    },
    {
     "name": "stdout",
     "output_type": "stream",
     "text": [
      "Shapefile opened successfully.\n",
      "Layer name: curvas_BLP.shp\n",
      "EPSG code: EPSG:32613\n",
      "Number of rows: 2787\n",
      "Geometry type: ['LineString' 'MultiLineString']\n",
      "Columns (fields) in the attribute table: ['Elevation', 'Elev', 'geometry']\n"
     ]
    },
    {
     "name": "stdin",
     "output_type": "stream",
     "text": [
      "Please type the name of the elevation field:  Elev\n"
     ]
    },
    {
     "name": "stdout",
     "output_type": "stream",
     "text": [
      "DEM generated and saved to C:\\Users\\jpjmn\\OneDrive\\Documents\\GIS\\curvas_BLP\\output_dem.tif\n"
     ]
    },
    {
     "name": "stdin",
     "output_type": "stream",
     "text": [
      "Enter the full path to the output folder (e.g., 'C:/data/output/'):  C:\\Users\\jpjmn\\OneDrive\\Documents\\GIS\\rasters\\\n",
      "Enter the slope units ('degrees' or 'percent'):  degrees\n"
     ]
    },
    {
     "name": "stdout",
     "output_type": "stream",
     "text": [
      "Rasters saved to C:\\Users\\jpjmn\\OneDrive\\Documents\\GIS\\rasters\\\n"
     ]
    }
   ],
   "source": [
    "# Conditions depending on the input\n",
    "\n",
    "if input_type == 'dem':\n",
    "    # User input for DEM processing\n",
    "    input_dem = input(\"Enter the full path to the input DEM file (e.g., 'C:/data/dem.tif'): \").strip()\n",
    "    output_folder = input(\"Enter the full path to the output folder (e.g., 'C:/data/output/'): \").strip()\n",
    "    slope_units = input(\"Enter the slope units ('degrees' or 'percent'): \").strip().lower()\n",
    "\n",
    "    # Validate slope units\n",
    "    if slope_units not in ['degrees', 'percent']:\n",
    "        print(\"Invalid slope_units input. Defaulting to 'degrees'.\")\n",
    "        slope_units = 'degrees'\n",
    "\n",
    "    # Validate DEM file existence\n",
    "    if not os.path.exists(input_dem):\n",
    "        raise FileNotFoundError(f\"The specified DEM file does not exist: {input_dem}\")\n",
    "\n",
    "    # Run raster generation\n",
    "    generate_rasters(input_dem, output_folder, slope_units)\n",
    "\n",
    "elif input_type == 'contour lines':\n",
    "    # Contour lines handling\n",
    "    contour_file = input(\"Enter the full path to the contour lines file (e.g., C:/data/contours.shp): \").strip()\n",
    "    output_dem = input(\"Enter the full path to the output DEM file (e.g., C:/data/output_dem.tif): \").strip()\n",
    "    cell_size = float(input(\"Enter the desired cell size for the DEM (e.g., 10.0): \").strip())\n",
    "    \n",
    "    # Load shapefile and display attributes\n",
    "    try:\n",
    "        gdf = gpd.read_file(contour_file)\n",
    "        print(\"Shapefile opened successfully.\")\n",
    "        print(f\"Layer name: {os.path.basename(contour_file)}\")\n",
    "        print(f\"EPSG code: {gdf.crs}\")\n",
    "        print(f\"Number of rows: {len(gdf)}\")\n",
    "        print(f\"Geometry type: {gdf.geom_type.unique()}\")\n",
    "        print(f\"Columns (fields) in the attribute table: {list(gdf.columns)}\")\n",
    "\n",
    "        # User selects the elevation field\n",
    "        elev_field = input(\"Please type the name of the elevation field: \").strip()\n",
    "        if elev_field not in gdf.columns:\n",
    "            raise ValueError(f\"Field '{elev_field}' not found in the attribute table.\")\n",
    "\n",
    "    except Exception as e:\n",
    "        print(f\"Error processing shapefile: {e}\")\n",
    "        raise\n",
    "\n",
    "    # Generate DEM\n",
    "    generated_dem = generate_dem_from_contours(contour_file, output_dem, cell_size, elev_field)\n",
    "\n",
    "    # Proceed with terrain analysis\n",
    "    output_folder = input(\"Enter the full path to the output folder (e.g., C:/data/output/): \").strip()\n",
    "    slope_units = input(\"Enter the slope units ('degrees' or 'percent'): \").strip().lower()\n",
    "    \n",
    "    if slope_units not in ['degrees', 'percent']:\n",
    "        print(\"Invalid slope_units input. Defaulting to 'degrees'.\")\n",
    "        slope_units = 'degrees'\n",
    "\n",
    "    generate_rasters(generated_dem, output_folder, slope_units)\n",
    "\n",
    "else:\n",
    "    print(\"Invalid input. Please enter 'DEM' or 'contour lines'.\")"
   ]
  },
  {
   "cell_type": "code",
   "execution_count": null,
   "id": "5cd65fbe-e9aa-4435-8999-bf56da94c321",
   "metadata": {},
   "outputs": [],
   "source": []
  }
 ],
 "metadata": {
  "kernelspec": {
   "display_name": "Python 3 (ipykernel)",
   "language": "python",
   "name": "python3"
  },
  "language_info": {
   "codemirror_mode": {
    "name": "ipython",
    "version": 3
   },
   "file_extension": ".py",
   "mimetype": "text/x-python",
   "name": "python",
   "nbconvert_exporter": "python",
   "pygments_lexer": "ipython3",
   "version": "3.8.20"
  }
 },
 "nbformat": 4,
 "nbformat_minor": 5
}
